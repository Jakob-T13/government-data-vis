{
 "cells": [
  {
   "cell_type": "markdown",
   "metadata": {},
   "source": [
    "# Data Visualization with Government Units\n",
    "\n",
    "In this exercise, we will explore creating bar graphs and scatter plots with [some public sector data from Census.gov](https://data.census.gov/cedsci/table?d=PUB%20Public%20Sector%20Annual%20Surveys%20Public%20Sector%20Annual%20Surveys&tid=GOVSTIMESERIES.CG00ORG02&hidePreview=false&vintage=2018).  Note: We have provided a modified dataset as part of the exercise.  We have cleaned the data and reorganized it in a way that it is easier to use for reporting.  We cover cleaning and reshaping data in our full course, though not in this preview course.\n",
    "\n",
    "This Jupyter Notebook file assumes that **govt2017_values.csv** is in the same folder as this file.\n",
    "\n",
    "Import `pandas` with the alias of `pd`"
   ]
  },
  {
   "cell_type": "code",
   "execution_count": null,
   "metadata": {},
   "outputs": [],
   "source": []
  },
  {
   "cell_type": "markdown",
   "metadata": {},
   "source": [
    "Using `read_csv()`, store the contents of `govt2017_values.csv` in a variable named `govt_2017`."
   ]
  },
  {
   "cell_type": "code",
   "execution_count": null,
   "metadata": {},
   "outputs": [],
   "source": []
  },
  {
   "cell_type": "markdown",
   "metadata": {},
   "source": [
    "Inspect the `govt_2017`DataFrame to see how many rows and columns it has."
   ]
  },
  {
   "cell_type": "code",
   "execution_count": null,
   "metadata": {},
   "outputs": [],
   "source": []
  },
  {
   "cell_type": "markdown",
   "metadata": {},
   "source": [
    "Inspect the column types to know what kind of data you are working with."
   ]
  },
  {
   "cell_type": "code",
   "execution_count": null,
   "metadata": {
    "scrolled": true
   },
   "outputs": [],
   "source": []
  },
  {
   "cell_type": "markdown",
   "metadata": {},
   "source": [
    "## Creating Bar Charts\n",
    "\n",
    "In the accompany lesson, we explain how to create bar charts.  In this exercise, we will create both the standard vertical bar chart as well as rotate it into a horizontal bar chart.\n",
    "\n",
    "For this bar chart, we are concerned with two columns - `NAME` and `Total Local Government Units`.  As there are spaces in the field names, we will need to use bracket notation rather than dot notation.\n",
    "\n",
    "Create a variable called `total_units` and store in those 2 columns from the `govt_2017` DataFrame."
   ]
  },
  {
   "cell_type": "code",
   "execution_count": null,
   "metadata": {},
   "outputs": [],
   "source": []
  },
  {
   "cell_type": "markdown",
   "metadata": {},
   "source": [
    "We want to sort those values by `Total Local Government Units` highest to lowest (`ascending=False`). `sort_values()` will operate on the DataFrame you call it on.  However, we want to capture this result in a variable named `sorted_totals` so that we can work with it later."
   ]
  },
  {
   "cell_type": "code",
   "execution_count": null,
   "metadata": {
    "scrolled": true
   },
   "outputs": [],
   "source": []
  },
  {
   "cell_type": "markdown",
   "metadata": {},
   "source": [
    "We want to plot the top 10 totals of local government units by state.  To keep things simple, store the first 10 records of our `sorted_totals` in a variable named `sorted_totals_top10`."
   ]
  },
  {
   "cell_type": "code",
   "execution_count": null,
   "metadata": {},
   "outputs": [],
   "source": []
  },
  {
   "cell_type": "markdown",
   "metadata": {},
   "source": [
    "Once the top 10 data is stored, generate a bar graph off of the `plot` property on the `sorted_totals_top10` variable.  For the call to the `bar()` function, pass in 'NAME' for the x value."
   ]
  },
  {
   "cell_type": "code",
   "execution_count": null,
   "metadata": {},
   "outputs": [],
   "source": []
  },
  {
   "cell_type": "markdown",
   "metadata": {},
   "source": [
    "Now, we want to work with this bar graph and add x and y labels.\n",
    "\n",
    "1. Import `matplotlib.pyplot` as `plt`.\n",
    "2. Use the magic function `%matplotlib inline` to keep our plots in the notebook."
   ]
  },
  {
   "cell_type": "code",
   "execution_count": null,
   "metadata": {},
   "outputs": [],
   "source": []
  },
  {
   "cell_type": "markdown",
   "metadata": {},
   "source": [
    "In the following code block:\n",
    "\n",
    "1. Store a plot in a variable named `ax` using the `plot()` function off of `sorted_totals_top10` with the following information:\n",
    "    - Title: **Top 10 Total Local Government Units by State**\n",
    "    - Kind: **bar**\n",
    "    - x: **NAME**\n",
    "2. Set the x axis label to **State**.\n",
    "3. Set the y axis label to **Number of Local Government Units**.\n",
    "4. Show the plot"
   ]
  },
  {
   "cell_type": "code",
   "execution_count": null,
   "metadata": {},
   "outputs": [],
   "source": []
  },
  {
   "cell_type": "markdown",
   "metadata": {},
   "source": [
    "## Creating Horizontal Bar Charts\n",
    "\n",
    "We can flip the vertical bar to a horizontal chart by setting the `kind` parameter to **barh** and update our axis labels accordingly.\n",
    "\n",
    "In the following code block:\n",
    "\n",
    "1. Store a plot in a variable named `ax` using the `plot()` function off of `sorted_totals_top10` with the following information:\n",
    "    - Title: **Top 10 Total Local Government Units by State**\n",
    "    - Kind: **barh**\n",
    "    - x: **NAME**\n",
    "2. Set the x axis label to Number of Local Government Units.\n",
    "3. Set the y axis label to State.\n",
    "4. Show the plot"
   ]
  },
  {
   "cell_type": "code",
   "execution_count": null,
   "metadata": {},
   "outputs": [],
   "source": []
  },
  {
   "cell_type": "markdown",
   "metadata": {},
   "source": [
    "## Creating Scatter Plots\n",
    "\n",
    "As we mentioned in the lesson, scatter plots are good for understanding relationships between numerical data.  For this exercise, we are going to look at the relationships of the following columns of the `govt_2017` DataFrame:\n",
    "    \n",
    "    - Total Local Government Units - General Purpose Governments\n",
    "    - Total Local Government Units - Special Purpose Governments\n",
    "    - Total Local Government Units - County Governments\n",
    "    \n",
    "Create a variable named `scatter_data` and store these columns from the `govt_2017` dataset."
   ]
  },
  {
   "cell_type": "code",
   "execution_count": null,
   "metadata": {},
   "outputs": [],
   "source": []
  },
  {
   "cell_type": "markdown",
   "metadata": {},
   "source": [
    "Create a scatter plot using the `scatter()` function of the `plot` property of the `scatter_data` DataFrame with the following parameters:\n",
    "\n",
    "- Title: **General Purpose vs Special Purpose**\n",
    "- x: **Total Local Government Units - General Purpose Governments**\n",
    "- y: **Total Local Government Units - Special Purpose Governments**"
   ]
  },
  {
   "cell_type": "code",
   "execution_count": null,
   "metadata": {},
   "outputs": [],
   "source": []
  },
  {
   "cell_type": "markdown",
   "metadata": {},
   "source": [
    "What relationship did you observe from the scatter plot?  Did you see points dense in an area versus scattered on the outskirts?"
   ]
  },
  {
   "cell_type": "markdown",
   "metadata": {},
   "source": []
  },
  {
   "cell_type": "markdown",
   "metadata": {},
   "source": [
    "### Plotting Multiple Series Against a Common Variable in a Scatter Plot\n",
    "\n",
    "As we mentioned in the lesson, it is possible to plot multiple series in a scatter plot.  If you are doing this, you need a way to differentiate your series.\n",
    "\n",
    "For this part of our exercise, we will explore any relationships between the county and general purpose units, in addition to the special and general purpose unit comparison.\n",
    "\n",
    "To make things easier to read - as these column names are long - we will store each column in a variable.\n",
    "\n",
    "1. Create a variable named `general_purpose` and store in the `Total Local Government Units - General Purpose Governments` column of `scatter_data`.\n",
    "2. Create a variable named `special_purpose` and store in the  `Total Local Government Units - Special Purpose Governments` column of `scatter_data`.\n",
    "3. Create a variable named `county_purpose` and store in the  `Total Local Government Units - County Governments` column of `scatter_data`."
   ]
  },
  {
   "cell_type": "code",
   "execution_count": null,
   "metadata": {},
   "outputs": [],
   "source": []
  },
  {
   "cell_type": "markdown",
   "metadata": {},
   "source": [
    "In the following code cell:\n",
    "\n",
    "1. Using `plt.scatter()`, create a plot with the following details:\n",
    "    - x: **general_purpose**\n",
    "    - y: **special_purpose**\n",
    "    - c: **#838286**\n",
    "    - label: **Special Purpose**\n",
    "2. Using `plt.scatter()`, create a plot with the following details:\n",
    "    - x: **general_purpose**\n",
    "    - y: **county_purpose**\n",
    "    - c: **#ed1650**\n",
    "    - label: **County**\n",
    "3. Set the title to **Special Purpose and County vs General Purpose**.\n",
    "4. Set the x axis label to **Total Units**.\n",
    "5. Set the y axis label to **Total Units**.\n",
    "6. Set the legend location to 1.  (Note: When we render the plot, there may be data under the legend.)\n",
    "7. Show the plot."
   ]
  },
  {
   "cell_type": "code",
   "execution_count": null,
   "metadata": {},
   "outputs": [],
   "source": []
  },
  {
   "cell_type": "markdown",
   "metadata": {},
   "source": [
    "What observations do you notice about this scatter plot?"
   ]
  },
  {
   "cell_type": "markdown",
   "metadata": {},
   "source": []
  }
 ],
 "metadata": {
  "kernelspec": {
   "display_name": "Python 3",
   "language": "python",
   "name": "python3"
  },
  "language_info": {
   "codemirror_mode": {
    "name": "ipython",
    "version": 3
   },
   "file_extension": ".py",
   "mimetype": "text/x-python",
   "name": "python",
   "nbconvert_exporter": "python",
   "pygments_lexer": "ipython3",
   "version": "3.7.4"
  }
 },
 "nbformat": 4,
 "nbformat_minor": 4
}
